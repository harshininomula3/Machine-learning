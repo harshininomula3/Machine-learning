{
  "nbformat": 4,
  "nbformat_minor": 0,
  "metadata": {
    "colab": {
      "provenance": [],
      "authorship_tag": "ABX9TyNqV0+z70cdIPKBIy7b3j0F",
      "include_colab_link": true
    },
    "kernelspec": {
      "name": "python3",
      "display_name": "Python 3"
    },
    "language_info": {
      "name": "python"
    }
  },
  "cells": [
    {
      "cell_type": "markdown",
      "metadata": {
        "id": "view-in-github",
        "colab_type": "text"
      },
      "source": [
        "<a href=\"https://colab.research.google.com/github/harshininomula3/Machine-learning/blob/main/Optimisation-Back%20propogation.ipynb\" target=\"_parent\"><img src=\"https://colab.research.google.com/assets/colab-badge.svg\" alt=\"Open In Colab\"/></a>"
      ]
    },
    {
      "cell_type": "code",
      "execution_count": 11,
      "metadata": {
        "colab": {
          "base_uri": "https://localhost:8080/"
        },
        "id": "ZwnxsPsMcsFz",
        "outputId": "03a8edeb-8970-4295-dc17-bb38d24ee2cb"
      },
      "outputs": [
        {
          "output_type": "stream",
          "name": "stdout",
          "text": [
            "New set of weights found, iteration: 0 loss: 1.0986785072641392 acc 0.3333333333333333\n",
            "New set of weights found, iteration: 2 loss: 1.0986618946968387 acc 0.3333333333333333\n",
            "New set of weights found, iteration: 3 loss: 1.0986594647118868 acc 0.3333333333333333\n",
            "New set of weights found, iteration: 4 loss: 1.098638589859254 acc 0.3333333333333333\n",
            "New set of weights found, iteration: 5 loss: 1.0986360659673517 acc 0.3333333333333333\n",
            "New set of weights found, iteration: 13 loss: 1.0986096947293533 acc 0.3333333333333333\n",
            "New set of weights found, iteration: 16 loss: 1.0986027373247647 acc 0.3333333333333333\n",
            "New set of weights found, iteration: 65 loss: 1.0985742217111132 acc 0.3333333333333333\n",
            "New set of weights found, iteration: 211 loss: 1.0985740409802627 acc 0.32\n",
            "New set of weights found, iteration: 824 loss: 1.0985693871180027 acc 0.3333333333333333\n",
            "New set of weights found, iteration: 1133 loss: 1.0985558398119062 acc 0.33666666666666667\n",
            "New set of weights found, iteration: 1358 loss: 1.0985399967052782 acc 0.3566666666666667\n",
            "New set of weights found, iteration: 4058 loss: 1.098535330684988 acc 0.3466666666666667\n"
          ]
        }
      ],
      "source": [
        "import numpy as np\n",
        "import matplotlib.pyplot as plt\n",
        "import numpy as np\n",
        "import matplotlib.pyplot as plt\n",
        "import nnfs\n",
        "from nnfs.datasets import spiral_data\n",
        "nnfs.init()\n",
        "class Layer_Dense:\n",
        "    def __init__(self, n_inputs, n_neurons):\n",
        "        self.weights = 0.01 * np.random.randn(n_inputs, n_neurons)\n",
        "        self.biases = np.zeros((1, n_neurons))\n",
        "\n",
        "    def forward(self, inputs):\n",
        "        self.output = np.dot(inputs, self.weights) + self.biases\n",
        "\n",
        "class Activation_ReLU:\n",
        "    def forward(self, inputs):\n",
        "        self.output = np.maximum(0, inputs)\n",
        "\n",
        "class Activation_Softmax:\n",
        "    def forward(self, inputs):\n",
        "        exp_values = np.exp(inputs - np.max(inputs, axis=1, keepdims=True))\n",
        "        probabilities = exp_values / np.sum(exp_values, axis=1, keepdims=True)\n",
        "        self.output = probabilities\n",
        "\n",
        "class Loss_CategoricalCrossentropy:\n",
        "    def calculate(self, output, y):\n",
        "        samples = len(output)\n",
        "        clipped_output = np.clip(output, 1e-7, 1 - 1e-7)\n",
        "\n",
        "        if len(y.shape) == 1:\n",
        "            correct_confidences = clipped_output[range(samples), y]\n",
        "        elif len(y.shape) == 2:\n",
        "            correct_confidences = np.sum(clipped_output * y, axis=1)\n",
        "\n",
        "        negative_log_likelihoods = -np.log(correct_confidences)\n",
        "        return np.mean(negative_log_likelihoods)\n",
        "\n",
        "def vertical_data(samples, classes):\n",
        "    X = np.zeros((samples * classes, 2))\n",
        "    y = np.zeros(samples * classes, dtype='uint8')\n",
        "    for class_number in range(classes):\n",
        "        ix = range(samples * class_number, samples * (class_number + 1))\n",
        "        r = np.linspace(0.0, 1, samples)\n",
        "        t = np.linspace(class_number * 4, (class_number + 1) * 4, samples) + np.random.randn(samples) * 0.2\n",
        "        X[ix] = np.c_[r * np.sin(t * 2.5), r * np.cos(t * 2.5)]\n",
        "        y[ix] = class_number\n",
        "    return X, y\n",
        "\n",
        "X,Y=vertical_data(samples=100,classes=3)\n",
        "dense1=Layer_Dense(2,3)\n",
        "activation1=Activation_ReLU()\n",
        "dense2=Layer_Dense(3,3)\n",
        "activation2=Activation_Softmax()\n",
        "loss_function=Loss_CategoricalCrossentropy()\n",
        "lowest_loss=9999999 #some initial value\n",
        "best_dense1_weights=dense1.weights.copy()\n",
        "best_dense1_biases=dense1.biases.copy()\n",
        "best_dense2_weights=dense2.weights.copy()\n",
        "best_dense2_biases=dense2.biases.copy()\n",
        "for iteration in range(100000):\n",
        "  dense1.weights=0.05*np.random.random((2,3))\n",
        "  dense1.biases=0.05*np.random.random((1,3))\n",
        "  dense2.weights=0.05*np.random.random((3,3))\n",
        "  dense2.biases=0.05*np.random.random((1,3))\n",
        "  dense1.forward(X)\n",
        "  activation1.forward(dense1.output)\n",
        "  dense2.forward(activation1.output)\n",
        "  activation2.forward(dense2.output)\n",
        "  loss=loss_function.calculate(activation2.output,Y)\n",
        "  predictions=np.argmax(activation2.output,axis=1)\n",
        "  accuracy=np.mean(predictions==Y)\n",
        "  if loss<lowest_loss:\n",
        "     print(\"New set of weights found, iteration:\",iteration,\"loss:\",loss,'acc',accuracy)\n",
        "     best_dense1_weights=dense1.weights.copy()\n",
        "     best_dense1_biases=dense1.biases.copy()\n",
        "     best_dense2_weights=dense2.weights.copy()\n",
        "     best_dense2_biases=dense2.biases.copy\n",
        "     lowest_loss=loss"
      ]
    },
    {
      "cell_type": "code",
      "metadata": {
        "colab": {
          "base_uri": "https://localhost:8080/"
        },
        "id": "27c7a168",
        "outputId": "1d20a312-386a-4448-83ca-21180e0fd372"
      },
      "source": [
        "!pip install nnfs"
      ],
      "execution_count": 8,
      "outputs": [
        {
          "output_type": "stream",
          "name": "stdout",
          "text": [
            "Collecting nnfs\n",
            "  Downloading nnfs-0.5.1-py3-none-any.whl.metadata (1.7 kB)\n",
            "Requirement already satisfied: numpy in /usr/local/lib/python3.11/dist-packages (from nnfs) (2.0.2)\n",
            "Downloading nnfs-0.5.1-py3-none-any.whl (9.1 kB)\n",
            "Installing collected packages: nnfs\n",
            "Successfully installed nnfs-0.5.1\n"
          ]
        }
      ]
    },
    {
      "cell_type": "code",
      "source": [
        "#OPTIMIZATION USING BACKWARD PASS\n",
        "import numpy as np\n",
        "\n",
        "def relu_derivate(x):\n",
        "  return np.where(x>0,1.0,0.0)\n",
        "\n",
        "# Initialize variables (example values - you might need to adjust these)\n",
        "weights = np.random.randn(1, 1) # Example: single input, single output\n",
        "bias = np.random.randn(1, 1)    # Example: single bias\n",
        "inputs = np.random.randn(1, 1)  # Example: single input data point\n",
        "target_output = np.random.randn(1, 1) # Example: single target output\n",
        "learning_rate = 0.01\n",
        "\n",
        "def relu(x):\n",
        "  return np.maximum(0, x)\n",
        "\n",
        "for iteration in range(20):\n",
        "  #forward pass\n",
        "  linear_output=np.dot(inputs,weights)+bias\n",
        "  output=relu(linear_output)\n",
        "  loss=(output-target_output)**2\n",
        "  #backward pass\n",
        "  dloss_doutput=2*(output-target_output)\n",
        "  doutput_dlinear=relu_derivate(linear_output)\n",
        "  dlinear_dweights=inputs\n",
        "  dlinear_dbias=1.0\n",
        "  dloss_dlinear=dloss_doutput*doutput_dlinear\n",
        "  dloss_dweights=np.dot(dlinear_dweights.T,dloss_dlinear)\n",
        "  dloss_dbias=dloss_dlinear*dlinear_dbias\n",
        "  weights-=learning_rate*dloss_dweights\n",
        "  bias-=learning_rate*dloss_dbias\n",
        "  print(\"iteration:\",iteration,\"loss:\",loss)\n",
        "  print(\"final weights:\",weights)\n",
        "  print(\"final bias:\",bias)"
      ],
      "metadata": {
        "colab": {
          "base_uri": "https://localhost:8080/"
        },
        "id": "4HVvEnITHMuX",
        "outputId": "dc0b9cd7-bbc1-407c-b392-052b5095cff9"
      },
      "execution_count": 5,
      "outputs": [
        {
          "output_type": "stream",
          "name": "stdout",
          "text": [
            "iteration: 0 loss: [[0.00235309]]\n",
            "final weights: [[1.04184527]]\n",
            "final bias: [[-0.13830123]]\n",
            "iteration: 1 loss: [[0.00216157]]\n",
            "final weights: [[1.04281068]]\n",
            "final bias: [[-0.13737138]]\n",
            "iteration: 2 loss: [[0.00198564]]\n",
            "final weights: [[1.04373596]]\n",
            "final bias: [[-0.13648017]]\n",
            "iteration: 3 loss: [[0.00182403]]\n",
            "final weights: [[1.04462279]]\n",
            "final bias: [[-0.135626]]\n",
            "iteration: 4 loss: [[0.00167557]]\n",
            "final weights: [[1.04547277]]\n",
            "final bias: [[-0.13480732]]\n",
            "iteration: 5 loss: [[0.0015392]]\n",
            "final weights: [[1.04628742]]\n",
            "final bias: [[-0.13402267]]\n",
            "iteration: 6 loss: [[0.00141392]]\n",
            "final weights: [[1.04706822]]\n",
            "final bias: [[-0.13327062]]\n",
            "iteration: 7 loss: [[0.00129884]]\n",
            "final weights: [[1.04781656]]\n",
            "final bias: [[-0.13254983]]\n",
            "iteration: 8 loss: [[0.00119313]]\n",
            "final weights: [[1.04853381]]\n",
            "final bias: [[-0.131859]]\n",
            "iteration: 9 loss: [[0.00109602]]\n",
            "final weights: [[1.04922125]]\n",
            "final bias: [[-0.13119687]]\n",
            "iteration: 10 loss: [[0.00100682]]\n",
            "final weights: [[1.04988012]]\n",
            "final bias: [[-0.13056227]]\n",
            "iteration: 11 loss: [[0.00092487]]\n",
            "final weights: [[1.05051161]]\n",
            "final bias: [[-0.12995403]]\n",
            "iteration: 12 loss: [[0.0008496]]\n",
            "final weights: [[1.05111685]]\n",
            "final bias: [[-0.12937108]]\n",
            "iteration: 13 loss: [[0.00078045]]\n",
            "final weights: [[1.05169695]]\n",
            "final bias: [[-0.12881235]]\n",
            "iteration: 14 loss: [[0.00071693]]\n",
            "final weights: [[1.05225293]]\n",
            "final bias: [[-0.12827684]]\n",
            "iteration: 15 loss: [[0.00065858]]\n",
            "final weights: [[1.05278581]]\n",
            "final bias: [[-0.12776358]]\n",
            "iteration: 16 loss: [[0.00060498]]\n",
            "final weights: [[1.05329654]]\n",
            "final bias: [[-0.12727166]]\n",
            "iteration: 17 loss: [[0.00055574]]\n",
            "final weights: [[1.05378605]]\n",
            "final bias: [[-0.12680017]]\n",
            "iteration: 18 loss: [[0.00051051]]\n",
            "final weights: [[1.05425521]]\n",
            "final bias: [[-0.12634829]]\n",
            "iteration: 19 loss: [[0.00046896]]\n",
            "final weights: [[1.05470488]]\n",
            "final bias: [[-0.12591518]]\n"
          ]
        }
      ]
    },
    {
      "cell_type": "code",
      "source": [],
      "metadata": {
        "id": "Sp-S0k6IHU9h"
      },
      "execution_count": null,
      "outputs": []
    }
  ]
}